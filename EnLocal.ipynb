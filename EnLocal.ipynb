{
  "nbformat": 4,
  "nbformat_minor": 0,
  "metadata": {
    "colab": {
      "name": "EnLocal.ipynb",
      "provenance": [],
      "collapsed_sections": [],
      "authorship_tag": "ABX9TyP3kkHYKA0lDtRPFA6Tirjx",
      "include_colab_link": true
    },
    "kernelspec": {
      "name": "python3",
      "display_name": "Python 3"
    },
    "widgets": {
      "application/vnd.jupyter.widget-state+json": {
        "39b19762f7d64c4f86d59307384434e4": {
          "model_module": "qgrid",
          "model_name": "QgridModel",
          "state": {
            "_view_name": "QgridView",
            "_view_module": "qgrid",
            "_model_module_version": "^1.1.3",
            "_index_col_name": "qgrid_unfiltered_index",
            "_model_module": "qgrid",
            "id": "d8a0c34f-0823-45cd-a505-4b0a8d0ea38a",
            "_sort_ascending": true,
            "_columns": {
              "index": {
                "is_index": true,
                "resizable": true,
                "sortable": true,
                "name": "index",
                "maxWidth": null,
                "level": 0,
                "first_index": true,
                "defaultSortAsc": true,
                "editable": true,
                "toolTip": "",
                "minWidth": 30,
                "field": "index",
                "width": null,
                "position": 0,
                "index_display_text": "",
                "cssClass": "integer",
                "type": "integer",
                "id": "index"
              },
              "qgrid_unfiltered_index": {
                "resizable": true,
                "sortable": true,
                "name": "qgrid_unfiltered_index",
                "maxWidth": null,
                "width": null,
                "defaultSortAsc": true,
                "editable": true,
                "toolTip": "",
                "minWidth": 30,
                "field": "qgrid_unfiltered_index",
                "position": 1,
                "cssClass": "integer",
                "type": "integer",
                "id": "qgrid_unfiltered_index"
              },
              "Team1;FT;HT;Team2": {
                "resizable": true,
                "sortable": true,
                "name": "Team1;FT;HT;Team2",
                "maxWidth": null,
                "width": null,
                "defaultSortAsc": true,
                "editable": true,
                "toolTip": "",
                "minWidth": 30,
                "field": "Team1;FT;HT;Team2",
                "position": 2,
                "cssClass": "string",
                "type": "string",
                "id": "Team1;FT;HT;Team2"
              }
            },
            "_interval_columns": [],
            "_dom_classes": [],
            "_df_range": [
              0,
              100
            ],
            "_model_name": "QgridModel",
            "precision": 5,
            "_editable_rows": {},
            "_viewport_range": [
              0,
              100
            ],
            "layout": "IPY_MODEL_528890528f46486eafb72198e02d5c52",
            "_view_count": null,
            "_row_styles": {},
            "_row_count": 10,
            "_multi_index": false,
            "show_toolbar": false,
            "_view_module_version": "^1.1.3",
            "grid_options": {
              "highlightSelectedRow": true,
              "fullWidthRows": true,
              "rowHeight": 28,
              "enableColumnReorder": false,
              "filterable": true,
              "sortable": true,
              "enableTextSelectionOnCells": true,
              "editable": true,
              "explicitInitialization": true,
              "minVisibleRows": 8,
              "autoEdit": false,
              "syncColumnCellResize": true,
              "maxVisibleRows": 15,
              "defaultColumnWidth": 150,
              "boldIndex": true,
              "forceFitColumns": true,
              "highlightSelectedCell": false
            },
            "_df_json": "{\"schema\":{\"fields\":[{\"name\":\"index\",\"type\":\"integer\"},{\"name\":\"qgrid_unfiltered_index\",\"type\":\"integer\"},{\"name\":\"Team1;FT;HT;Team2\",\"type\":\"string\"}],\"primaryKey\":[\"index\"],\"pandas_version\":\"0.20.0\"},\"data\":[{\"index\":0,\"qgrid_unfiltered_index\":0,\"Team1;FT;HT;Team2\":\"Arsenal; 1-3; 1-1;Aston Villa\"},{\"index\":1,\"qgrid_unfiltered_index\":1,\"Team1;FT;HT;Team2\":\"Liverpool;1-0;1-0;Stoke City\"},{\"index\":2,\"qgrid_unfiltered_index\":2,\"Team1;FT;HT;Team2\":\"Norwich City; 2-2;0-0;Everton\"},{\"index\":3,\"qgrid_unfiltered_index\":3,\"Team1;FT;HT;Team2\":\"Sunderland;0-1;0-0;Fulham\"},{\"index\":4,\"qgrid_unfiltered_index\":4,\"Team1;FT;HT;Team2\":\"Swansea City;0-4;0-2;Manchester United\"},{\"index\":5,\"qgrid_unfiltered_index\":5,\"Team1;FT;HT;Team2\":\"West Bromwich Albion;1-4;0-0;Southampton\"},{\"index\":6,\"qgrid_unfiltered_index\":6,\"Team1;FT;HT;Team2\":\"West Ham United;2-0;1-0;Cardiff City\"},{\"index\":7,\"qgrid_unfiltered_index\":7,\"Team1;FT;HT;Team2\":\"Chelsea;2-0;2-0;Hull City\"},{\"index\":8,\"qgrid_unfiltered_index\":8,\"Team1;FT;HT;Team2\":\"Crystal Palace;0-1;0-0;Tottenham Hotspur\"},{\"index\":9,\"qgrid_unfiltered_index\":9,\"Team1;FT;HT;Team2\":\"Manchester City;4-0;2-0;Newcastle United\"}]}",
            "_sort_field": null
          }
        },
        "e54f6e0d4ef8413aa2646fedeee26c1d": {
          "model_module": "qgrid",
          "model_name": "QgridModel",
          "state": {
            "_view_name": "QgridView",
            "_view_module": "qgrid",
            "_model_module_version": "^1.1.3",
            "_index_col_name": "qgrid_unfiltered_index",
            "_model_module": "qgrid",
            "id": "94a07d93-5591-4fff-89f0-819e2d462579",
            "_sort_ascending": true,
            "_columns": {
              "index": {
                "is_index": true,
                "resizable": true,
                "sortable": true,
                "name": "index",
                "maxWidth": null,
                "level": 0,
                "first_index": true,
                "defaultSortAsc": true,
                "editable": true,
                "toolTip": "",
                "minWidth": 30,
                "field": "index",
                "width": null,
                "position": 0,
                "index_display_text": "",
                "cssClass": "integer",
                "type": "integer",
                "id": "index"
              },
              "FT": {
                "resizable": true,
                "sortable": true,
                "name": "FT",
                "maxWidth": null,
                "width": null,
                "defaultSortAsc": true,
                "editable": true,
                "toolTip": "",
                "minWidth": 30,
                "field": "FT",
                "position": 3,
                "cssClass": "string",
                "type": "string",
                "id": "FT"
              },
              "Team1": {
                "resizable": true,
                "sortable": true,
                "name": "Team1",
                "maxWidth": null,
                "width": null,
                "defaultSortAsc": true,
                "editable": true,
                "toolTip": "",
                "minWidth": 30,
                "field": "Team1",
                "position": 2,
                "cssClass": "string",
                "type": "string",
                "id": "Team1"
              },
              "Team2": {
                "resizable": true,
                "sortable": true,
                "name": "Team2",
                "maxWidth": null,
                "width": null,
                "defaultSortAsc": true,
                "editable": true,
                "toolTip": "",
                "minWidth": 30,
                "field": "Team2",
                "position": 5,
                "cssClass": "string",
                "type": "string",
                "id": "Team2"
              },
              "qgrid_unfiltered_index": {
                "resizable": true,
                "sortable": true,
                "name": "qgrid_unfiltered_index",
                "maxWidth": null,
                "width": null,
                "defaultSortAsc": true,
                "editable": true,
                "toolTip": "",
                "minWidth": 30,
                "field": "qgrid_unfiltered_index",
                "position": 1,
                "cssClass": "integer",
                "type": "integer",
                "id": "qgrid_unfiltered_index"
              },
              "HT": {
                "resizable": true,
                "sortable": true,
                "name": "HT",
                "maxWidth": null,
                "width": null,
                "defaultSortAsc": true,
                "editable": true,
                "toolTip": "",
                "minWidth": 30,
                "field": "HT",
                "position": 4,
                "cssClass": "string",
                "type": "string",
                "id": "HT"
              }
            },
            "_interval_columns": [],
            "_dom_classes": [],
            "_df_range": [
              0,
              100
            ],
            "_model_name": "QgridModel",
            "precision": 5,
            "_editable_rows": {},
            "_viewport_range": [
              0,
              100
            ],
            "layout": "IPY_MODEL_6e194d3109784879955e8067c46b6ab0",
            "_view_count": null,
            "_row_styles": {},
            "_row_count": 10,
            "_multi_index": false,
            "show_toolbar": false,
            "_view_module_version": "^1.1.3",
            "grid_options": {
              "highlightSelectedRow": true,
              "fullWidthRows": true,
              "rowHeight": 28,
              "enableColumnReorder": false,
              "filterable": true,
              "sortable": true,
              "enableTextSelectionOnCells": true,
              "editable": true,
              "explicitInitialization": true,
              "minVisibleRows": 8,
              "autoEdit": false,
              "syncColumnCellResize": true,
              "maxVisibleRows": 15,
              "defaultColumnWidth": 150,
              "boldIndex": true,
              "forceFitColumns": true,
              "highlightSelectedCell": false
            },
            "_df_json": "{\"schema\":{\"fields\":[{\"name\":\"index\",\"type\":\"integer\"},{\"name\":\"qgrid_unfiltered_index\",\"type\":\"integer\"},{\"name\":\"Team1\",\"type\":\"string\"},{\"name\":\"FT\",\"type\":\"string\"},{\"name\":\"HT\",\"type\":\"string\"},{\"name\":\"Team2\",\"type\":\"string\"}],\"primaryKey\":[\"index\"],\"pandas_version\":\"0.20.0\"},\"data\":[{\"index\":0,\"qgrid_unfiltered_index\":0,\"Team1\":\"Arsenal\",\"FT\":\" 1-3\",\"HT\":\" 1-1\",\"Team2\":\"Aston Villa\"},{\"index\":1,\"qgrid_unfiltered_index\":1,\"Team1\":\"Liverpool\",\"FT\":\"1-0\",\"HT\":\"1-0\",\"Team2\":\"Stoke City\"},{\"index\":2,\"qgrid_unfiltered_index\":2,\"Team1\":\"Norwich City\",\"FT\":\" 2-2\",\"HT\":\"0-0\",\"Team2\":\"Everton\"},{\"index\":3,\"qgrid_unfiltered_index\":3,\"Team1\":\"Sunderland\",\"FT\":\"0-1\",\"HT\":\"0-0\",\"Team2\":\"Fulham\"},{\"index\":4,\"qgrid_unfiltered_index\":4,\"Team1\":\"Swansea City\",\"FT\":\"0-4\",\"HT\":\"0-2\",\"Team2\":\"Manchester United\"},{\"index\":5,\"qgrid_unfiltered_index\":5,\"Team1\":\"West Bromwich Albion\",\"FT\":\"1-4\",\"HT\":\"0-0\",\"Team2\":\"Southampton\"},{\"index\":6,\"qgrid_unfiltered_index\":6,\"Team1\":\"West Ham United\",\"FT\":\"2-0\",\"HT\":\"1-0\",\"Team2\":\"Cardiff City\"},{\"index\":7,\"qgrid_unfiltered_index\":7,\"Team1\":\"Chelsea\",\"FT\":\"2-0\",\"HT\":\"2-0\",\"Team2\":\"Hull City\"},{\"index\":8,\"qgrid_unfiltered_index\":8,\"Team1\":\"Crystal Palace\",\"FT\":\"0-1\",\"HT\":\"0-0\",\"Team2\":\"Tottenham Hotspur\"},{\"index\":9,\"qgrid_unfiltered_index\":9,\"Team1\":\"Manchester City\",\"FT\":\"4-0\",\"HT\":\"2-0\",\"Team2\":\"Newcastle United\"}]}",
            "_sort_field": null
          }
        }
      }
    }
  },
  "cells": [
    {
      "cell_type": "markdown",
      "metadata": {
        "id": "view-in-github",
        "colab_type": "text"
      },
      "source": [
        "<a href=\"https://colab.research.google.com/github/feljimgon1/MEAN/blob/master/EnLocal.ipynb\" target=\"_parent\"><img src=\"https://colab.research.google.com/assets/colab-badge.svg\" alt=\"Open In Colab\"/></a>"
      ]
    },
    {
      "cell_type": "code",
      "metadata": {
        "id": "5ui7jX6ezyGI"
      },
      "source": [
        "import pandas as pd\n",
        "import numpy as np\n",
        "import qgrid\n",
        "from pandas import DataFrame"
      ],
      "execution_count": 32,
      "outputs": []
    },
    {
      "cell_type": "code",
      "metadata": {
        "id": "_K969pDp0hGI",
        "outputId": "230c49ba-3ee0-4f82-bf87-338b0311fa2d",
        "colab": {
          "base_uri": "https://localhost:8080/",
          "height": 204
        }
      },
      "source": [
        "csv_file = pd.read_csv('PruebaFutbol.csv')\n",
        "csv_file.head()"
      ],
      "execution_count": 33,
      "outputs": [
        {
          "output_type": "execute_result",
          "data": {
            "text/html": [
              "<div>\n",
              "<style scoped>\n",
              "    .dataframe tbody tr th:only-of-type {\n",
              "        vertical-align: middle;\n",
              "    }\n",
              "\n",
              "    .dataframe tbody tr th {\n",
              "        vertical-align: top;\n",
              "    }\n",
              "\n",
              "    .dataframe thead th {\n",
              "        text-align: right;\n",
              "    }\n",
              "</style>\n",
              "<table border=\"1\" class=\"dataframe\">\n",
              "  <thead>\n",
              "    <tr style=\"text-align: right;\">\n",
              "      <th></th>\n",
              "      <th>Team1;FT;HT;Team2</th>\n",
              "    </tr>\n",
              "  </thead>\n",
              "  <tbody>\n",
              "    <tr>\n",
              "      <th>0</th>\n",
              "      <td>Arsenal; 1-3; 1-1;Aston Villa</td>\n",
              "    </tr>\n",
              "    <tr>\n",
              "      <th>1</th>\n",
              "      <td>Liverpool;1-0;1-0;Stoke City</td>\n",
              "    </tr>\n",
              "    <tr>\n",
              "      <th>2</th>\n",
              "      <td>Norwich City; 2-2;0-0;Everton</td>\n",
              "    </tr>\n",
              "    <tr>\n",
              "      <th>3</th>\n",
              "      <td>Sunderland;0-1;0-0;Fulham</td>\n",
              "    </tr>\n",
              "    <tr>\n",
              "      <th>4</th>\n",
              "      <td>Swansea City;0-4;0-2;Manchester United</td>\n",
              "    </tr>\n",
              "  </tbody>\n",
              "</table>\n",
              "</div>"
            ],
            "text/plain": [
              "                        Team1;FT;HT;Team2\n",
              "0           Arsenal; 1-3; 1-1;Aston Villa\n",
              "1            Liverpool;1-0;1-0;Stoke City\n",
              "2           Norwich City; 2-2;0-0;Everton\n",
              "3               Sunderland;0-1;0-0;Fulham\n",
              "4  Swansea City;0-4;0-2;Manchester United"
            ]
          },
          "metadata": {
            "tags": []
          },
          "execution_count": 33
        }
      ]
    },
    {
      "cell_type": "code",
      "metadata": {
        "id": "ojBDx0R34uaS",
        "outputId": "3f7c40ee-fee8-4224-d5cd-e047e27a88fb",
        "colab": {
          "base_uri": "https://localhost:8080/",
          "height": 17,
          "referenced_widgets": [
            "39b19762f7d64c4f86d59307384434e4"
          ]
        }
      },
      "source": [
        "qgrid_widget = qgrid.show_grid(csv_file)\n",
        "qgrid_widget"
      ],
      "execution_count": 37,
      "outputs": [
        {
          "output_type": "display_data",
          "data": {
            "application/vnd.jupyter.widget-view+json": {
              "model_id": "39b19762f7d64c4f86d59307384434e4",
              "version_minor": 0,
              "version_major": 2
            },
            "text/plain": [
              "QgridWidget(grid_options={'fullWidthRows': True, 'syncColumnCellResize': True, 'forceFitColumns': True, 'defau…"
            ]
          },
          "metadata": {
            "tags": []
          }
        }
      ]
    },
    {
      "cell_type": "code",
      "metadata": {
        "id": "TTkZQiuX4S_l",
        "outputId": "6b6a253b-9fff-4ea9-9656-bfbff00fc267",
        "colab": {
          "base_uri": "https://localhost:8080/",
          "height": 359
        }
      },
      "source": [
        "path = ('PruebaFutbol.xlsx')\n",
        "pd.read_excel(path)"
      ],
      "execution_count": 35,
      "outputs": [
        {
          "output_type": "execute_result",
          "data": {
            "text/html": [
              "<div>\n",
              "<style scoped>\n",
              "    .dataframe tbody tr th:only-of-type {\n",
              "        vertical-align: middle;\n",
              "    }\n",
              "\n",
              "    .dataframe tbody tr th {\n",
              "        vertical-align: top;\n",
              "    }\n",
              "\n",
              "    .dataframe thead th {\n",
              "        text-align: right;\n",
              "    }\n",
              "</style>\n",
              "<table border=\"1\" class=\"dataframe\">\n",
              "  <thead>\n",
              "    <tr style=\"text-align: right;\">\n",
              "      <th></th>\n",
              "      <th>Team1</th>\n",
              "      <th>FT</th>\n",
              "      <th>HT</th>\n",
              "      <th>Team2</th>\n",
              "    </tr>\n",
              "  </thead>\n",
              "  <tbody>\n",
              "    <tr>\n",
              "      <th>0</th>\n",
              "      <td>Arsenal</td>\n",
              "      <td>1-3</td>\n",
              "      <td>1-1</td>\n",
              "      <td>Aston Villa</td>\n",
              "    </tr>\n",
              "    <tr>\n",
              "      <th>1</th>\n",
              "      <td>Liverpool</td>\n",
              "      <td>1-0</td>\n",
              "      <td>1-0</td>\n",
              "      <td>Stoke City</td>\n",
              "    </tr>\n",
              "    <tr>\n",
              "      <th>2</th>\n",
              "      <td>Norwich City</td>\n",
              "      <td>2-2</td>\n",
              "      <td>0-0</td>\n",
              "      <td>Everton</td>\n",
              "    </tr>\n",
              "    <tr>\n",
              "      <th>3</th>\n",
              "      <td>Sunderland</td>\n",
              "      <td>0-1</td>\n",
              "      <td>0-0</td>\n",
              "      <td>Fulham</td>\n",
              "    </tr>\n",
              "    <tr>\n",
              "      <th>4</th>\n",
              "      <td>Swansea City</td>\n",
              "      <td>0-4</td>\n",
              "      <td>0-2</td>\n",
              "      <td>Manchester United</td>\n",
              "    </tr>\n",
              "    <tr>\n",
              "      <th>5</th>\n",
              "      <td>West Bromwich Albion</td>\n",
              "      <td>1-4</td>\n",
              "      <td>0-0</td>\n",
              "      <td>Southampton</td>\n",
              "    </tr>\n",
              "    <tr>\n",
              "      <th>6</th>\n",
              "      <td>West Ham United</td>\n",
              "      <td>2-0</td>\n",
              "      <td>1-0</td>\n",
              "      <td>Cardiff City</td>\n",
              "    </tr>\n",
              "    <tr>\n",
              "      <th>7</th>\n",
              "      <td>Chelsea</td>\n",
              "      <td>2-0</td>\n",
              "      <td>2-0</td>\n",
              "      <td>Hull City</td>\n",
              "    </tr>\n",
              "    <tr>\n",
              "      <th>8</th>\n",
              "      <td>Crystal Palace</td>\n",
              "      <td>0-1</td>\n",
              "      <td>0-0</td>\n",
              "      <td>Tottenham Hotspur</td>\n",
              "    </tr>\n",
              "    <tr>\n",
              "      <th>9</th>\n",
              "      <td>Manchester City</td>\n",
              "      <td>4-0</td>\n",
              "      <td>2-0</td>\n",
              "      <td>Newcastle United</td>\n",
              "    </tr>\n",
              "  </tbody>\n",
              "</table>\n",
              "</div>"
            ],
            "text/plain": [
              "                  Team1    FT    HT              Team2\n",
              "0               Arsenal   1-3   1-1        Aston Villa\n",
              "1             Liverpool   1-0   1-0         Stoke City\n",
              "2          Norwich City   2-2   0-0            Everton\n",
              "3            Sunderland   0-1   0-0             Fulham\n",
              "4          Swansea City   0-4   0-2  Manchester United\n",
              "5  West Bromwich Albion   1-4   0-0        Southampton\n",
              "6       West Ham United   2-0   1-0       Cardiff City\n",
              "7               Chelsea   2-0   2-0          Hull City\n",
              "8        Crystal Palace   0-1   0-0  Tottenham Hotspur\n",
              "9       Manchester City   4-0   2-0   Newcastle United"
            ]
          },
          "metadata": {
            "tags": []
          },
          "execution_count": 35
        }
      ]
    },
    {
      "cell_type": "code",
      "metadata": {
        "id": "KfcWfkqg0xL5",
        "outputId": "f1858c4b-5631-4bdb-9d46-58d4ff18d347",
        "colab": {
          "base_uri": "https://localhost:8080/",
          "height": 17,
          "referenced_widgets": [
            "e54f6e0d4ef8413aa2646fedeee26c1d"
          ]
        }
      },
      "source": [
        "qgrid_widget = qgrid.show_grid(pd.read_excel(path))\n",
        "qgrid_widget"
      ],
      "execution_count": 38,
      "outputs": [
        {
          "output_type": "display_data",
          "data": {
            "application/vnd.jupyter.widget-view+json": {
              "model_id": "e54f6e0d4ef8413aa2646fedeee26c1d",
              "version_minor": 0,
              "version_major": 2
            },
            "text/plain": [
              "QgridWidget(grid_options={'fullWidthRows': True, 'syncColumnCellResize': True, 'forceFitColumns': True, 'defau…"
            ]
          },
          "metadata": {
            "tags": []
          }
        }
      ]
    },
    {
      "cell_type": "code",
      "metadata": {
        "id": "N8XNgppSBNW5"
      },
      "source": [
        ""
      ],
      "execution_count": null,
      "outputs": []
    }
  ]
}